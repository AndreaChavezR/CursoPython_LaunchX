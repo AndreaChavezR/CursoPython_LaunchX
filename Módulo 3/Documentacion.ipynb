{
 "cells": [
  {
   "cell_type": "markdown",
   "metadata": {},
   "source": [
    "## Lógica Booleana\n",
    "Escribir declaraciones 'if'\n",
    "Para expresar la lógica condicional en Python, se utilizan instrucciones if . Cuando escribes una declaración if, confías en otro concepto que cubrimos en este módulo, los operadores matemáticos. Python admite los operadores lógicos comunes de las matemáticas: igual, no igual, menor que, menor que o igual a, mayor que y mayor que o igual a. Probablemente estés acostumbrado a ver estos operadores mostrados usando símbolos, que es la forma en que también se representan en Python.\n",
    "\n",
    "Iguales: a == b\n",
    "No es igual: a != b\n",
    "Menos que: a < b\n",
    "Menor o igual que: a <= b\n",
    "Mayor que: a > b\n",
    "Mayor o igual que: a >= b"
   ]
  },
  {
   "cell_type": "markdown",
   "metadata": {},
   "source": [
    "## Expresiones de prueba \n"
   ]
  },
  {
   "cell_type": "code",
   "execution_count": 3,
   "metadata": {},
   "outputs": [],
   "source": [
    "#Práctica 1\n",
    "a = 97\n",
    "b = 55\n",
    "#Test expression / Expresion de prueba \n",
    "if a < b:\n",
    "    #statement to be run / instrucción a ejecutar\n",
    "    print(b)\n"
   ]
  },
  {
   "cell_type": "code",
   "execution_count": 5,
   "metadata": {},
   "outputs": [
    {
     "name": "stdout",
     "output_type": "stream",
     "text": [
      "100\n"
     ]
    }
   ],
   "source": [
    "a = 45\n",
    "b = 100\n",
    "if a < b:\n",
    "    print(b)\n",
    "else: \n",
    "    print(a)"
   ]
  },
  {
   "cell_type": "code",
   "execution_count": 6,
   "metadata": {},
   "outputs": [
    {
     "name": "stdout",
     "output_type": "stream",
     "text": [
      "93\n"
     ]
    }
   ],
   "source": [
    "#Aplica el tip de la práctica 1.\n",
    "a = 93\n",
    "b = 27\n",
    "if a >= b:\n",
    "    print(a)"
   ]
  },
  {
   "cell_type": "markdown",
   "metadata": {},
   "source": [
    "El fragmento anterior se lee de la siguiente manera (Línea por línea):\n",
    "\n",
    "A la letra 'a' le asigno el valor de 93.\n",
    "A la letra 'b' le asigno el valor de 27.\n",
    "SI a(93) es mayor o igual a b(27) entonces:\n",
    "Muestra (print) el valor de a(93)"
   ]
  },
  {
   "cell_type": "markdown",
   "metadata": {},
   "source": [
    "## Trabajando con else"
   ]
  },
  {
   "cell_type": "code",
   "execution_count": 7,
   "metadata": {},
   "outputs": [
    {
     "name": "stdout",
     "output_type": "stream",
     "text": [
      "93\n"
     ]
    }
   ],
   "source": [
    "a = 93\n",
    "b = 27\n",
    "if a >= b:\n",
    "    print(a)\n",
    "else:\n",
    "    print(b)"
   ]
  },
  {
   "cell_type": "markdown",
   "metadata": {},
   "source": [
    "## Trabajando con elif \n",
    "En Python, la palabra clave elif es la abreviatura de else if. El uso de instrucciones elif te permite agregar varias expresiones de prueba al programa. Estas instrucciones se ejecutan en el orden en que están escritas, por lo que el programa ingresará una instrucción elif solo si la primera instrucción if es False . Por ejemplo:"
   ]
  },
  {
   "cell_type": "code",
   "execution_count": 8,
   "metadata": {},
   "outputs": [
    {
     "name": "stdout",
     "output_type": "stream",
     "text": [
      "a es mayor o igual que b\n"
     ]
    }
   ],
   "source": [
    "a = 93\n",
    "b = 27\n",
    "if a >= b:\n",
    "    print(\"a es mayor o igual que b\")\n",
    "elif a == b:\n",
    "    print(\"a es igual que b\")"
   ]
  },
  {
   "cell_type": "markdown",
   "metadata": {},
   "source": [
    "## Combinar declaraciones if, elif y else\n",
    "Puedes combinar sentencias if , elif, y else para crear programas con lógica condicional compleja. Recuerda que una instrucción elif sólo se ejecuta cuando la condición if es False. También ten en cuenta que un bloque if puede tener solo un bloque else, pero puede tener varios bloques elif."
   ]
  },
  {
   "cell_type": "code",
   "execution_count": 9,
   "metadata": {},
   "outputs": [
    {
     "name": "stdout",
     "output_type": "stream",
     "text": [
      "a es mayor que b\n"
     ]
    }
   ],
   "source": [
    "a = 93\n",
    "b = 27\n",
    "if a > b:\n",
    "    print(\"a es mayor que b\")\n",
    "elif a < b:\n",
    "    print(\"a es menor que b\")\n",
    "else: \n",
    "    print (\"a es igual que b\")"
   ]
  },
  {
   "cell_type": "markdown",
   "metadata": {},
   "source": [
    "## Trabajar con lógica condicional anidada\n",
    "Python también admite lógica condicional anidada, lo que significa que puedes anidar sentencias if , elif, y else, para crear programas aún más complejos. Para anidar condiciones, indenta las condiciones internas y todo lo que esté en el mismo nivel de sangría se ejecutará en el mismo bloque de código"
   ]
  },
  {
   "cell_type": "code",
   "execution_count": 10,
   "metadata": {},
   "outputs": [
    {
     "name": "stdout",
     "output_type": "stream",
     "text": [
      "a es menor que b\n"
     ]
    }
   ],
   "source": [
    "a = 16\n",
    "b = 25\n",
    "c = 27\n",
    "if a > b:\n",
    "    if b > c:\n",
    "        print (\"a es mayor que b y b es mayor que c\")\n",
    "    else: \n",
    "        print (\"a es mayor que b y menor que c\")\n",
    "elif a == b:\n",
    "    print (\"a es igual que b\")\n",
    "else:\n",
    "    print (\"a es menor que b\")"
   ]
  },
  {
   "cell_type": "markdown",
   "metadata": {},
   "source": [
    "## Operador and y or \n",
    "Es posible que ocasionalmente desees combinar expresiones de prueba para evaluar varias condiciones if , elif, y else en una instrucción. Para ello, utilizaremos los operadores booleanos and y or"
   ]
  },
  {
   "cell_type": "markdown",
   "metadata": {},
   "source": [
    "## Operador or\n",
    "Puede conectar dos expresiones booleanas o de prueba mediante el operador booleano or. Para que toda la expresión se evalúe en True, al menos una de las subexpresiones debe ser verdadera. Si ninguna de las subexpresiones es verdadera, toda la expresión se evalúa en False. Por ejemplo, en la siguiente expresión, toda la expresión de prueba se evalúa en True, porque se ha cumplido una de las condiciones de las subexpresiones:"
   ]
  },
  {
   "cell_type": "code",
   "execution_count": 11,
   "metadata": {},
   "outputs": [
    {
     "name": "stdout",
     "output_type": "stream",
     "text": [
      "57\n"
     ]
    }
   ],
   "source": [
    "a = 23\n",
    "b = 34\n",
    "if a == 34 or b == 34:\n",
    "    print(a + b)"
   ]
  },
  {
   "cell_type": "markdown",
   "metadata": {},
   "source": [
    "## Operador and \n",
    "También puedes conectar dos expresiones de prueba mediante el operador booleano and.\n",
    "\n",
    "Ambas condiciones de la expresión de prueba deben ser verdaderas para que toda la expresión de prueba se evalúe en True. En cualquier otro caso, la expresión de prueba es False. En el ejemplo siguiente, toda la expresión de prueba se evalúa en False, porque sólo una de las condiciones de las subexpresiones es True:"
   ]
  },
  {
   "cell_type": "code",
   "execution_count": 12,
   "metadata": {},
   "outputs": [],
   "source": [
    "a = 23\n",
    "b = 34\n",
    "if a == 34 and b == 34:\n",
    "    print (a + b)"
   ]
  }
 ],
 "metadata": {
  "interpreter": {
   "hash": "666bd7adb41a20ac021453a4481d7f0a39f6bb312bb8c135fd932e402d7c82b9"
  },
  "kernelspec": {
   "display_name": "Python 3.10.2 64-bit (windows store)",
   "language": "python",
   "name": "python3"
  },
  "language_info": {
   "codemirror_mode": {
    "name": "ipython",
    "version": 3
   },
   "file_extension": ".py",
   "mimetype": "text/x-python",
   "name": "python",
   "nbconvert_exporter": "python",
   "pygments_lexer": "ipython3",
   "version": "3.10.2"
  },
  "orig_nbformat": 4
 },
 "nbformat": 4,
 "nbformat_minor": 2
}
