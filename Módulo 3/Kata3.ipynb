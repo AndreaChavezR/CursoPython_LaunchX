{
 "cells": [
  {
   "cell_type": "markdown",
   "metadata": {},
   "source": [
    "## Ejercicio - Escribir declaraciones if, else, y elif"
   ]
  },
  {
   "cell_type": "code",
   "execution_count": 1,
   "metadata": {},
   "outputs": [
    {
     "name": "stdout",
     "output_type": "stream",
     "text": [
      "¡Alerta! Un asteroide se acerca rapidamente a la tierra\n"
     ]
    }
   ],
   "source": [
    "asteroide = 49\n",
    "if asteroide > 25:\n",
    "    print(\"¡Alerta! Un asteroide se acerca rapidamente a la Tierra\")\n",
    "else:\n",
    "    print(\"Sin novedades, sigue con tú día\")\n",
    "        "
   ]
  },
  {
   "cell_type": "code",
   "execution_count": 2,
   "metadata": {},
   "outputs": [
    {
     "name": "stdout",
     "output_type": "stream",
     "text": [
      "No hay nada que ver en el cielo\n"
     ]
    }
   ],
   "source": [
    "asteroide = 19\n",
    "if asteroide > 20:\n",
    "    print(\"Mira, hay un rayo de luz en el cielo!!\")\n",
    "elif asteroide == 20:\n",
    "    print(\"Mira, hay un rayo de luz en el cielo!!\")\n",
    "else:\n",
    "    print(\"No hay nada que ver en el cielo\")\n"
   ]
  },
  {
   "cell_type": "code",
   "execution_count": 3,
   "metadata": {},
   "outputs": [
    {
     "name": "stdout",
     "output_type": "stream",
     "text": [
      "Mira, hay un rayo de luz en el cielo!!\n"
     ]
    }
   ],
   "source": [
    "velocidad_asteroide = 25\n",
    "tamano_asteroide = 40\n",
    "if velocidad_asteroide > 25 and tamano_asteroide > 25:\n",
    "    print(\"¡Alerta! Un asteroide se acerca rapidamente a la Tierra\")\n",
    "elif velocidad_asteroide >= 20:\n",
    "    print('Mira, hay un rayo de luz en el cielo!!')\n",
    "elif tamano_asteroide < 25:\n",
    "    print('No hay nada que ver en el cielo')\n",
    "else:\n",
    "    print('No hay nada que ver en el cielo')\n",
    "\n"
   ]
  }
 ],
 "metadata": {
  "interpreter": {
   "hash": "666bd7adb41a20ac021453a4481d7f0a39f6bb312bb8c135fd932e402d7c82b9"
  },
  "kernelspec": {
   "display_name": "Python 3.10.2 64-bit (windows store)",
   "language": "python",
   "name": "python3"
  },
  "language_info": {
   "codemirror_mode": {
    "name": "ipython",
    "version": 3
   },
   "file_extension": ".py",
   "mimetype": "text/x-python",
   "name": "python",
   "nbconvert_exporter": "python",
   "pygments_lexer": "ipython3",
   "version": "3.10.2"
  },
  "orig_nbformat": 4
 },
 "nbformat": 4,
 "nbformat_minor": 2
}
