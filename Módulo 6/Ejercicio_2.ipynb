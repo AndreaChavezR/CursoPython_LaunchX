{
 "cells": [
  {
   "cell_type": "markdown",
   "metadata": {},
   "source": [
    "## Ejercicio 2: Trabajando con datos de una lista \n",
    "\n",
    "Usar slices para recuperar partes de una lista\n",
    "\n",
    "Es posible que debas trabajar con diferentes secciones de una lista. En nuestro ejemplo, queremos mostrar planetas más cerca y más lejos del sol de un planeta que el usuario ingresa por teclado.\n",
    "Comienza agregando el cógido para crear una lista con los planetas."
   ]
  },
  {
   "cell_type": "code",
   "execution_count": 1,
   "metadata": {},
   "outputs": [],
   "source": [
    "planetas = ['Mercurio','Venus','Tierra','Marte','Jupiter','Saturno','Urano','Neptuno']"
   ]
  },
  {
   "cell_type": "markdown",
   "metadata": {},
   "source": [
    "## Solicita al usuario el nombre de un planeta\n",
    "A continuación, agrega el código para solicitar al usuario un nombre. Debido a que las cadenas distinguen entre mayúsculas y minúsculas en Python, pídale al usuario que use una letra mayúscula para comenzar el nombre del planeta."
   ]
  },
  {
   "cell_type": "markdown",
   "metadata": {},
   "source": [
    "## Encuentra el planeta en la lista\n",
    "Para determinar qué planetas están más cerca que el que ingresó el usuario, debes encontrar dónde está el planeta en la lista. Puedes utilizar index para realizar esta operación. Agrega el código para encontrar el índice del planeta.\n",
    "\n",
    "## Mostrar planetas más cercanos al sol que el que el usuario ingresó\n",
    "Con el índice determinado, ahora puedes agregar el código para mostrar los planetas más cercanos al sol.\n",
    "\n",
    "## Mostrar planetas más alejados del sol que el que el usuario ingresó\n",
    "Puedes usar el mismo índice para mostrar planetas más alejados del sol. Sin embargo, recuerda que el índice inicial se incluye cuando usas un slice. Como resultado, tendrás que agregar 1 al valor. Agrega el código para mostrar los planetas más alejados del sol."
   ]
  },
  {
   "cell_type": "code",
   "execution_count": 9,
   "metadata": {},
   "outputs": [
    {
     "name": "stdout",
     "output_type": "stream",
     "text": [
      "Planetas más cercanos al Sol que Marte\n",
      "['Mercurio', 'Venus', 'Tierra']\n",
      "Planetas más alejados al Sol que Marte\n",
      "['Jupiter', 'Saturno', 'Urano', 'Neptuno']\n"
     ]
    }
   ],
   "source": [
    "# Se solicita el nombre del planeta\n",
    "nom_planeta = input(\"Ingresa el nombre de un planeta: \")\n",
    "\n",
    "# Se busca en la lista el planeta ingresado\n",
    "buscar_planeta = planetas.index(nom_planeta)\n",
    "\n",
    "# Planetas más cercanos al sol\n",
    "print(\"Planetas más cercanos al Sol que \" + nom_planeta)\n",
    "print(planetas[0:buscar_planeta])\n",
    "\n",
    "#Planetas más lejanos al Sol\n",
    "print('Planetas más alejados al Sol que ' + nom_planeta)\n",
    "print(planetas[buscar_planeta + 1:])\n"
   ]
  }
 ],
 "metadata": {
  "interpreter": {
   "hash": "e96b7228185eb2d08e3f7059032f03f25e3468ab736709ce500a9576a2fc6d5d"
  },
  "kernelspec": {
   "display_name": "Python 3.10.2 64-bit (windows store)",
   "language": "python",
   "name": "python3"
  },
  "language_info": {
   "codemirror_mode": {
    "name": "ipython",
    "version": 3
   },
   "file_extension": ".py",
   "mimetype": "text/x-python",
   "name": "python",
   "nbconvert_exporter": "python",
   "pygments_lexer": "ipython3",
   "version": "3.10.2"
  },
  "orig_nbformat": 4
 },
 "nbformat": 4,
 "nbformat_minor": 2
}
