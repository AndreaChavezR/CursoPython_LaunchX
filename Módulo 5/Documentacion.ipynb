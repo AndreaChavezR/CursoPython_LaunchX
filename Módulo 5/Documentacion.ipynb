{
 "cells": [
  {
   "cell_type": "markdown",
   "metadata": {},
   "source": [
    "## Introducción \n",
    "Las matemáticas serán parte de casi todos los proyectos que creas a lo largo de tu viaje como desarrollador. Si eres un científico de datos, es posible que estés haciendo cálculos bastantes complejos. Si estás creando sitios web, es posible que estés determinando precios o los artículos en un carrito de compras. Python, como cualquier otro lenguaje de programacion, proporciona numeros operadores y bibliotecas para realizar operaciones matemáticas. "
   ]
  },
  {
   "cell_type": "markdown",
   "metadata": {},
   "source": [
    "## Escenario: Crear un programa para calcular la distancia entre los planetas\n",
    "Imagina que estás creando un programa para calcular la distancia entre planetas. El programa permite a un usuario ingresar las distancias de dos planetas desde el sol, y calcula la distancia entre esos dos planetas. Además, deseas proporcionar la distancia tanto en millas como en kilómetros."
   ]
  },
  {
   "cell_type": "markdown",
   "metadata": {},
   "source": [
    "## Objetivo Principal\n",
    "Aprovechar el poder de los operadores matemáticos cuando creamos un programa Python.\n",
    "## ¿Qué son los operadores en Python?\n",
    "Por lo general, las matemáticas implican alrededor de cuatro operaciones principales: suma, resta, multiplicacion y divisón. Python es compatible con estos cuatro operadores y algunos otros. Exploremos los operadores comunes que usarás en tus programas.\n",
    "\n",
    "## Adición (Suma)\n",
    "En python usamos \"+\" para indicar la adición. Usamos \"+\" entre dos números la suma y proporciona el total."
   ]
  },
  {
   "cell_type": "code",
   "execution_count": 1,
   "metadata": {},
   "outputs": [
    {
     "name": "stdout",
     "output_type": "stream",
     "text": [
      "42\n"
     ]
    }
   ],
   "source": [
    "suma = 30 + 12\n",
    "print(suma)"
   ]
  },
  {
   "cell_type": "markdown",
   "metadata": {},
   "source": [
    "Los operadores se comportan igual cuando uusan números literales (como 42) o variables. \n",
    "## Sustracción (Resta)\n",
    "Del mismo modo, python utiliza \"-\" para la resta. El uso de \"-\" entre dos números resta los dos números y proporciona la diferencia."
   ]
  },
  {
   "cell_type": "code",
   "execution_count": 3,
   "metadata": {},
   "outputs": [
    {
     "name": "stdout",
     "output_type": "stream",
     "text": [
      "18\n"
     ]
    }
   ],
   "source": [
    "resta = 30 - 12\n",
    "print(resta)"
   ]
  },
  {
   "cell_type": "markdown",
   "metadata": {},
   "source": [
    "## Multiplicación \n",
    "En python \"*\" es el operador de la multiplicación. Proporciona el producto de dos números:\n"
   ]
  },
  {
   "cell_type": "code",
   "execution_count": 4,
   "metadata": {},
   "outputs": [
    {
     "name": "stdout",
     "output_type": "stream",
     "text": [
      "360\n"
     ]
    }
   ],
   "source": [
    "multiplicación = 30 * 12\n",
    "print(multiplicación)"
   ]
  },
  {
   "cell_type": "markdown",
   "metadata": {},
   "source": [
    "## División \n",
    "Por último se utiliza \"/\" para la división. Proporciona el cociente de dos números:"
   ]
  },
  {
   "cell_type": "code",
   "execution_count": 5,
   "metadata": {},
   "outputs": [
    {
     "name": "stdout",
     "output_type": "stream",
     "text": [
      "2.5\n"
     ]
    }
   ],
   "source": [
    "division = 30 / 12\n",
    "print(division)"
   ]
  },
  {
   "cell_type": "markdown",
   "metadata": {},
   "source": [
    "## Trabajar con la divisón \n",
    "Imagina que necesitas convertir un número de segundos en minutos y segundos pra la visualización. "
   ]
  },
  {
   "cell_type": "code",
   "execution_count": 6,
   "metadata": {},
   "outputs": [],
   "source": [
    "seg = 1042"
   ]
  },
  {
   "cell_type": "markdown",
   "metadata": {},
   "source": [
    "El primer paso es determinar el número de minutos que hay en 1042 segundos. Con 60 segundos en un minuto, puedes dividir y obtener una respuesta de 17.3666667. El número que te interesa es simplemente 17. Siempre que desees redondear hacia abajo, utilizando lo que se conoce como divisón de piso. Para realizar la divisón de piso en Python utilizamos //."
   ]
  },
  {
   "cell_type": "code",
   "execution_count": 7,
   "metadata": {},
   "outputs": [
    {
     "name": "stdout",
     "output_type": "stream",
     "text": [
      "17\n"
     ]
    }
   ],
   "source": [
    "seg = 1042\n",
    "display_minutes = 1042 // 60\n",
    "print(display_minutes)"
   ]
  },
  {
   "cell_type": "markdown",
   "metadata": {},
   "source": [
    "El siguiente paso es determinar el número de segundos. Este es el resto utilizando el operador módulo, que es \"%\" en python. El resto de 1042 / 60 es 22, que es lo que proporcionará el operador del módulo. "
   ]
  },
  {
   "cell_type": "code",
   "execution_count": 10,
   "metadata": {},
   "outputs": [
    {
     "name": "stdout",
     "output_type": "stream",
     "text": [
      "Los minutos son:  17\n",
      "Los segundos son:  22\n"
     ]
    }
   ],
   "source": [
    "seg = 1042\n",
    "display_minutes = 1042 // 60\n",
    "display_seconds = 1042 % 60\n",
    "print(\"Los minutos son: \", display_minutes)\n",
    "print(\"Los segundos son: \",display_seconds)"
   ]
  },
  {
   "cell_type": "markdown",
   "metadata": {},
   "source": [
    "## Orden de funcionamiento (Jerarquía de Operaciones)\n",
    "Python respeta el orden de operación para las matemáticas. El orden de operación dicta que las expresiones deben de evaluarse en el siguiente orden:\n",
    "1.- Paréntesis \n",
    "2.- Exponentes \n",
    "3.- Multiplicación y división \n",
    "4.- Suma y resta \n",
    "\n",
    "Observa cómo se evalúan los paréntesis antes de cualquier otra operación. Esto permite asegurarte de que el código se ejecuta de manera predecible y que su código sea más fácil de leer y mantener.\n",
    "\n",
    "Como resultado, es una buena práctica usar paréntesis incluso si el orden de operación se evaluaría de la misma manera sin ellos. En las siguientes dos líneas de código, la segunda es más comprensible porque el paréntesis es una indicación clara de qué operación se realizará primero."
   ]
  },
  {
   "cell_type": "code",
   "execution_count": 12,
   "metadata": {},
   "outputs": [
    {
     "name": "stdout",
     "output_type": "stream",
     "text": [
      "El resultado de la operación 1 es:  1084\n",
      "El resultado de la operación 2 es:  1084\n"
     ]
    }
   ],
   "source": [
    "result_1 = 1032 + 26 * 2 \n",
    "result_2 = 1032 + (26 * 2)\n",
    "print(\"El resultado de la operación 1 es: \", result_1)\n",
    "print(\"El resultado de la operación 2 es: \", result_2)\n"
   ]
  },
  {
   "cell_type": "markdown",
   "metadata": {},
   "source": [
    "## Convertir cadenas en números \n",
    "Python admite dos tipos principales de números: entreros (int) y coma flotante (float). La diferencia clave entre los dos es la existencia de un punto decimal: los enteros son números enteros, mientras que los floats contienen un valor decimal. \n",
    "Cuando conviertes cadenas, indicamos el tipo de números que deseamos crear. Debemos decidir si necesitamos un punto decimal. Se utiliza int para convertir a un número entero y float para convertir a un numero coma flotante.\n"
   ]
  },
  {
   "cell_type": "code",
   "execution_count": 13,
   "metadata": {},
   "outputs": [
    {
     "name": "stdout",
     "output_type": "stream",
     "text": [
      "215\n"
     ]
    }
   ],
   "source": [
    "demo_int = int('215')\n",
    "print(demo_int)"
   ]
  },
  {
   "cell_type": "code",
   "execution_count": 14,
   "metadata": {},
   "outputs": [
    {
     "name": "stdout",
     "output_type": "stream",
     "text": [
      "215.3\n"
     ]
    }
   ],
   "source": [
    "demo_float = float('215.3')\n",
    "print(demo_float)"
   ]
  },
  {
   "cell_type": "markdown",
   "metadata": {},
   "source": [
    "Si utilizas un valor no valido para cualquiera de los dos int o floar, obtendras un error. "
   ]
  },
  {
   "cell_type": "markdown",
   "metadata": {},
   "source": [
    "## Valores   \n",
    "Un valor absoluto en matemáticas es el número no negatico sin su signo. El uso de un valor absoluto puede ser util en diferentes situaciones, incluido nuestro ejemplo de buscar determinar la distancia entre dos planetas. Considera las siguientes matemáticas. \n"
   ]
  },
  {
   "cell_type": "code",
   "execution_count": 15,
   "metadata": {},
   "outputs": [],
   "source": [
    "a = 39 - 16\n",
    "b = 16 - 39"
   ]
  },
  {
   "cell_type": "markdown",
   "metadata": {},
   "source": [
    "Observa que la diferencia entre las dos ecuaciones es que los números se invierten. Las respuestas son 23 y -23 respectivamente. Cuando estás determinando la distancia entre dos planetas, el orden en el que ingresas los números no importa, porque la respuesta absoluta es la misma. \n",
    "Convertimos el valor negativo en su valor absoluto utilizando abs. Si realiza la misma operación utilizando abs (e imprimes las respuestas), notarás que se muestran 23 para ambas ecuaciones. "
   ]
  },
  {
   "cell_type": "code",
   "execution_count": 16,
   "metadata": {},
   "outputs": [
    {
     "name": "stdout",
     "output_type": "stream",
     "text": [
      "23\n",
      "23\n"
     ]
    }
   ],
   "source": [
    "print(abs(39 - 16))\n",
    "print(abs(16 - 39))"
   ]
  },
  {
   "cell_type": "markdown",
   "metadata": {},
   "source": [
    "## Redondeo \n",
    "La función de python incorporada llamada round también es util. Usada para redondear al entero más cercano si el valor decimal .5 es mayor o mayor o hacia abajo si es menos que .5"
   ]
  },
  {
   "cell_type": "code",
   "execution_count": 17,
   "metadata": {},
   "outputs": [
    {
     "name": "stdout",
     "output_type": "stream",
     "text": [
      "14\n"
     ]
    }
   ],
   "source": [
    "print(round(14.5))"
   ]
  },
  {
   "cell_type": "markdown",
   "metadata": {},
   "source": [
    "## Biblioteca Math\n",
    "Python tiene bibliotecas para proporcionar operaciones y cálculos más avanzados. Una de las más comunes es la biblioteca math. math te permite realizar el redondeo con floor y ceil, proporcionar el valor de pi, y muchas otras operaciones. Veamos cómo usar esta biblioteca para redondear hacia arriba o hacia abajo.\n",
    "\n",
    "El redondeo de números permite quitar la parte decimal de un flotador. Puedes elegir redondear siempre hacia arriba al número entero más cercano usando ceil, o hacia abajo usando floor."
   ]
  },
  {
   "cell_type": "code",
   "execution_count": 20,
   "metadata": {},
   "outputs": [
    {
     "name": "stdout",
     "output_type": "stream",
     "text": [
      "Collecting cell\n",
      "  Downloading cell-0.0.3.tar.gz (17 kB)\n"
     ]
    },
    {
     "name": "stderr",
     "output_type": "stream",
     "text": [
      "    ERROR: Command errored out with exit status 1:\n",
      "     command: 'C:\\Users\\Personal\\AppData\\Local\\Microsoft\\WindowsApps\\PythonSoftwareFoundation.Python.3.10_qbz5n2kfra8p0\\python.exe' -c 'import io, os, sys, setuptools, tokenize; sys.argv[0] = '\"'\"'C:\\\\Users\\\\Personal\\\\AppData\\\\Local\\\\Temp\\\\pip-install-by2x0vhw\\\\cell_7d061658816a4ad991a267d6fcc6cb8d\\\\setup.py'\"'\"'; __file__='\"'\"'C:\\\\Users\\\\Personal\\\\AppData\\\\Local\\\\Temp\\\\pip-install-by2x0vhw\\\\cell_7d061658816a4ad991a267d6fcc6cb8d\\\\setup.py'\"'\"';f = getattr(tokenize, '\"'\"'open'\"'\"', open)(__file__) if os.path.exists(__file__) else io.StringIO('\"'\"'from setuptools import setup; setup()'\"'\"');code = f.read().replace('\"'\"'\\r\\n'\"'\"', '\"'\"'\\n'\"'\"');f.close();exec(compile(code, __file__, '\"'\"'exec'\"'\"'))' egg_info --egg-base 'C:\\Users\\Personal\\AppData\\Local\\Temp\\pip-pip-egg-info-crwpspih'\n",
      "         cwd: C:\\Users\\Personal\\AppData\\Local\\Temp\\pip-install-by2x0vhw\\cell_7d061658816a4ad991a267d6fcc6cb8d\\\n",
      "    Complete output (1 lines):\n",
      "    error in cell setup command: use_2to3 is invalid.\n",
      "    ----------------------------------------\n",
      "WARNING: Discarding https://files.pythonhosted.org/packages/67/f7/a97fc3744edb00da2f4e082f1199ec29b6eb61979915e47848f936ea07c0/cell-0.0.3.tar.gz#sha256=34cb2b331ce86072d754f6ded2da256ab12866ac3944c2938af23d73987b394d (from https://pypi.org/simple/cell/). Command errored out with exit status 1: python setup.py egg_info Check the logs for full command output.\n",
      "ERROR: Could not find a version that satisfies the requirement cell (from versions: 0.0.3)\n",
      "ERROR: No matching distribution found for cell\n",
      "WARNING: You are using pip version 21.2.4; however, version 22.0.3 is available.\n",
      "You should consider upgrading via the 'C:\\Users\\Personal\\AppData\\Local\\Microsoft\\WindowsApps\\PythonSoftwareFoundation.Python.3.10_qbz5n2kfra8p0\\python.exe -m pip install --upgrade pip' command.\n"
     ]
    }
   ],
   "source": [
    "!pip install cell"
   ]
  },
  {
   "cell_type": "code",
   "execution_count": 22,
   "metadata": {},
   "outputs": [
    {
     "name": "stdout",
     "output_type": "stream",
     "text": [
      "13\n",
      "12\n"
     ]
    }
   ],
   "source": [
    "from math import ceil, floor\n",
    "\n",
    "round_up = ceil(12.5)\n",
    "print(round_up)\n",
    "\n",
    "round_down = floor(12.5)\n",
    "print(round_down)"
   ]
  }
 ],
 "metadata": {
  "interpreter": {
   "hash": "666bd7adb41a20ac021453a4481d7f0a39f6bb312bb8c135fd932e402d7c82b9"
  },
  "kernelspec": {
   "display_name": "Python 3.10.2 64-bit (windows store)",
   "language": "python",
   "name": "python3"
  },
  "language_info": {
   "codemirror_mode": {
    "name": "ipython",
    "version": 3
   },
   "file_extension": ".py",
   "mimetype": "text/x-python",
   "name": "python",
   "nbconvert_exporter": "python",
   "pygments_lexer": "ipython3",
   "version": "3.10.2"
  },
  "orig_nbformat": 4
 },
 "nbformat": 4,
 "nbformat_minor": 2
}
