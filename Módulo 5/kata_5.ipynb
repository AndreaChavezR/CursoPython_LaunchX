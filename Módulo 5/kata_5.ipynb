{
 "cells": [
  {
   "cell_type": "markdown",
   "metadata": {},
   "source": [
    "## Ejercicio 1: Utilizar operadores aritméticos\n",
    "\n",
    "Operadores aritméticos en Python \n",
    "Python proporciona operadores aritméticos comunes para que puedas realizar operaciones matemáticas en tu código. Estps incluyen las cuatro operaciones principales suma, resta, multiplicación y división. \n",
    "Exploresmos cómo podemos crear un programa que pueda calcular la distancia entre dos planetas. Comenzamos usuando dos distancias de planetas: Tierra (149.597.870 km) y Júpiter (778.547.200 km).\n",
    "\n"
   ]
  },
  {
   "cell_type": "code",
   "execution_count": 6,
   "metadata": {},
   "outputs": [
    {
     "name": "stdout",
     "output_type": "stream",
     "text": [
      "628949330\n",
      "390577533.93\n"
     ]
    }
   ],
   "source": [
    "Tierra = 149597870\n",
    "Jupiter = 778547200\n",
    "\n",
    "distancia = Jupiter - Tierra \n",
    "print(distancia)\n",
    "\n",
    "millas = distancia * 0.621\n",
    "print(millas)"
   ]
  },
  {
   "cell_type": "markdown",
   "metadata": {},
   "source": [
    "## Ejercicio 2: Convierte cadenas en números y usa valores absolutos \n",
    "Crea una aplicación para trabajar con números y entrada de usuario\n",
    "\n",
    "Con frecuencia, deberás convertir los valores de cadenas en números para realizar correctamente diferentes operaciones o determinar el valor absoluto de un número. \n",
    "\n",
    "Para crear nuestra aplicación, queremos leer la distancia del sol para dos planetas, y luego mostrar la distancia entre los planetas. Haremos esto usando \"input\" para leer los valores,\"int\" para convertir a entero y luego \"abs\" para convertir el resultado en su valor absoluto. \n",
    "\n",
    "## Lee los valores \n",
    "Usando input, agregar el código para leer la distancia del sol para cada planeta, considerando 2 planetas. \n",
    "\n"
   ]
  },
  {
   "cell_type": "code",
   "execution_count": 13,
   "metadata": {},
   "outputs": [
    {
     "name": "stdout",
     "output_type": "stream",
     "text": [
      "El valor absoluto es:  50300000\n",
      "Las millas son:  31236300.0\n"
     ]
    }
   ],
   "source": [
    "## Se ingresan las distancias de los planetas\n",
    "num1 = input (\"Introduce la distancia del primer planeta: \")\n",
    "num2 = input (\"Introduce la distancia del segundo planeta: \")\n",
    "\n",
    "##Se convierten las cadenas a números enteros \n",
    "\n",
    "num1 = int(num1)\n",
    "num2 = int(num2)\n",
    "\n",
    "## Se realiza el calculo y se convierten a un valor absoluto \n",
    "\n",
    "absoluto = num2 - num1 \n",
    "print(\"El valor absoluto es: \",absoluto)\n",
    "\n",
    "## Convertir de km a millas \n",
    "\n",
    "millas = absoluto * 0.621\n",
    "print(\"Las millas son: \",(abs(millas)))\n",
    "\n",
    "\n"
   ]
  }
 ],
 "metadata": {
  "interpreter": {
   "hash": "e96b7228185eb2d08e3f7059032f03f25e3468ab736709ce500a9576a2fc6d5d"
  },
  "kernelspec": {
   "display_name": "Python 3.10.2 64-bit (windows store)",
   "language": "python",
   "name": "python3"
  },
  "language_info": {
   "codemirror_mode": {
    "name": "ipython",
    "version": 3
   },
   "file_extension": ".py",
   "mimetype": "text/x-python",
   "name": "python",
   "nbconvert_exporter": "python",
   "pygments_lexer": "ipython3",
   "version": "3.10.2"
  },
  "orig_nbformat": 4
 },
 "nbformat": 4,
 "nbformat_minor": 2
}
