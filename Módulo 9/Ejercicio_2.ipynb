{
 "cells": [
  {
   "cell_type": "markdown",
   "metadata": {},
   "source": [
    "## Ejercicio 2: Trabajo con argumentos de palabras clave\n",
    "\n",
    "En este ejercicio, construirás un informe de cohete que requiere varias piezas de información, como el tiempo hasta el destino, el combustible a la izquierda y el nombre del destino. Comienza por crear una función que creará un informe preciso de la misión:\n",
    "\n",
    "La función es problemática porque no se puede adaptar para minutos adicionales o tanques adicionales de combustible. Hazlo más flexible permitiendo cualquier número de pasos basados en el tiempo y cualquier número de tanques. En lugar de usar *args y **kwargs, aprovecha el hecho de que puedes usar cualquier nombre que desees. Asegurate que la función sea más legible mediante el uso de nombres de variables que están asociados con las entradas, como *minutes y **fuel_reservoirs:\n",
    "\n",
    "Debido a que el combustible que queda en los tanques es específico de cada tanque, actualiza la función para usar el nombre de cada tanque en el informe:\n"
   ]
  },
  {
   "cell_type": "code",
   "execution_count": 4,
   "metadata": {},
   "outputs": [
    {
     "name": "stdout",
     "output_type": "stream",
     "text": [
      "\n",
      "    Destino de la misión: Marte\n",
      "    Tiempo de vuelo: 50 minutos \n",
      "    Combustible total: 170 galones\n"
     ]
    }
   ],
   "source": [
    "# Función con un informe preciso de la misión. Considera hora de prelanzamiento, tiempo de vuelo, destino, tanque externo y tanque interno\n",
    "\n",
    "def reporte_mision(prelanzamiento, tiempo_vuelo, destino, externo_tanque, interno_tanque):\n",
    "    return f\"\"\"\n",
    "    Destino de la misión: {destino}\n",
    "    Tiempo de vuelo: {tiempo_vuelo} minutos \n",
    "    Combustible total: {externo_tanque + interno_tanque} galones\"\"\"\n",
    "print(reporte_mision(20, 50, \"Marte\", 70, 100))\n",
    "\n",
    "\n",
    " "
   ]
  },
  {
   "cell_type": "code",
   "execution_count": 5,
   "metadata": {},
   "outputs": [],
   "source": [
    "# Escribe tu nueva función de reporte considerando lo anterior\n",
    "def reporte_mision(destino, *minutos, **reserva_combustible):\n",
    "    reporte = f\"\"\"\n",
    "    Destino de la misión {destino}\n",
    "    Tiempo de vuelo: {sum(minutos)}minutos\n",
    "    Combustible total: {sum(reserva_combustible.values())}\n",
    "    \"\"\"\n",
    "    print(reporte_mision(\"Luna\", 45, interno=100, externo= 200000))"
   ]
  },
  {
   "cell_type": "code",
   "execution_count": 6,
   "metadata": {},
   "outputs": [],
   "source": [
    "# Escribe tu nueva función\n",
    "def reporte_mision(destino, *minutos, **reserva_conbustible):\n",
    "    reporte = f\"\"\"\n",
    "    Destino de la misión: {destino}\n",
    "    Tiempo de vuelo: {sum(minutos)} minutos\n",
    "    Combustible de reserva: {sum(reserva_conbustible.values())} galones de reserva\n",
    "    \"\"\"\n",
    "    for nombre_tanque, galones in reserva_conbustible.items():\n",
    "        reporte_mision += f\"{nombre_tanque} tanque {galones}\"\n",
    "        return reporte()\n",
    "        \n",
    "    print(reporte_mision(\"Luna\", 45, interno=100, externo= 200000))\n"
   ]
  }
 ],
 "metadata": {
  "interpreter": {
   "hash": "e96b7228185eb2d08e3f7059032f03f25e3468ab736709ce500a9576a2fc6d5d"
  },
  "kernelspec": {
   "display_name": "Python 3.10.2 64-bit (windows store)",
   "language": "python",
   "name": "python3"
  },
  "language_info": {
   "codemirror_mode": {
    "name": "ipython",
    "version": 3
   },
   "file_extension": ".py",
   "mimetype": "text/x-python",
   "name": "python",
   "nbconvert_exporter": "python",
   "pygments_lexer": "ipython3",
   "version": "3.10.2"
  },
  "orig_nbformat": 4
 },
 "nbformat": 4,
 "nbformat_minor": 2
}
