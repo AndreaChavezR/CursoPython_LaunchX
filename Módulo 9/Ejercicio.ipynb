{
 "cells": [
  {
   "cell_type": "markdown",
   "metadata": {},
   "source": [
    "## Ejercicio: Uso de funciones en Python\n",
    "Los argumentos requeridos en las funciones se utilizan cuando las funciones necesitan que esos argumentos funcionen correctamente. En este ejercicio, construirás un informe de combustible que requiere información de varias ubicaciones de combustible en todo el cohete. \n",
    "\n",
    "Comienza por crear una función que necesite tres lecturas de combustible y devuelva un informe:\n",
    "\n",
    "Ahora que hemos definido la función de informes, vamos a comprobarlo. Para esta misión, los tanques no están llenos:\n",
    "\n",
    "En lugar de simplemente crear el informe, la función también está calculando el promedio. Mejora la legibilidad extrayendo el cálculo promedio de la función en una nueva función para que el promedio se pueda hacer de forma independiente:\n",
    "\n",
    "Ahora actualiza la función de informes para llamando a la nueva función del promedio:"
   ]
  },
  {
   "cell_type": "code",
   "execution_count": 9,
   "metadata": {},
   "outputs": [
    {
     "name": "stdout",
     "output_type": "stream",
     "text": [
      "Reporte: \n",
      "    Total de tanques: 74.66666666666667%\n",
      "    Tanque 1: 100%\n",
      "    Tanque 2: 70%\n",
      "    Tanque 3: 54%\n",
      "    \n"
     ]
    },
    {
     "data": {
      "text/plain": [
       "52.333333333333336"
      ]
     },
     "execution_count": 9,
     "metadata": {},
     "output_type": "execute_result"
    }
   ],
   "source": [
    "#Función para leer 3 tanques de combustible y muestre el promedio\n",
    "def generar_reporte(tanque_1, tanque_2, tanque_3):\n",
    "    promedio =(tanque_1 + tanque_2 + tanque_3)/3\n",
    "    return f\"\"\"Reporte: \n",
    "    Total de tanques: {promedio}%\n",
    "    Tanque 1: {tanque_1}%\n",
    "    Tanque 2: {tanque_2}%\n",
    "    Tanque 3: {tanque_3}%\n",
    "    \"\"\"\n",
    "\n",
    "#Llamamos a la función que genera el reporte print(Llamamos a la función que genera el reporte print(funcion(tanque1, tanque2, tanque3))\n",
    "print(generar_reporte(100, 70, 54))\n",
    "#Función promedio\n",
    "def promedio(values):\n",
    "    total = sum(values)\n",
    "    number_of_items = len(values)\n",
    "    return total/number_of_items\n",
    "promedio([76, 31, 50])\n",
    "\n"
   ]
  },
  {
   "cell_type": "code",
   "execution_count": 10,
   "metadata": {},
   "outputs": [
    {
     "name": "stdout",
     "output_type": "stream",
     "text": [
      "Reporte: \n",
      "    Total de tanques: 67.0%\n",
      "    Tanque 1: 34%\n",
      "    Tanque 2: 78%\n",
      "    Tanque 3: 89%\n",
      "    \n"
     ]
    }
   ],
   "source": [
    "# Actualiza la función\n",
    "def generar_reporte(tanque_1, tanque_2, tanque_3):\n",
    "    promedio =(tanque_1 + tanque_2 + tanque_3)/3\n",
    "    return f\"\"\"Reporte: \n",
    "    Total de tanques: {promedio}%\n",
    "    Tanque 1: {tanque_1}%\n",
    "    Tanque 2: {tanque_2}%\n",
    "    Tanque 3: {tanque_3}%\n",
    "    \"\"\"\n",
    "print(generar_reporte(34, 78, 89))"
   ]
  }
 ],
 "metadata": {
  "interpreter": {
   "hash": "e96b7228185eb2d08e3f7059032f03f25e3468ab736709ce500a9576a2fc6d5d"
  },
  "kernelspec": {
   "display_name": "Python 3.10.2 64-bit (windows store)",
   "language": "python",
   "name": "python3"
  },
  "language_info": {
   "codemirror_mode": {
    "name": "ipython",
    "version": 3
   },
   "file_extension": ".py",
   "mimetype": "text/x-python",
   "name": "python",
   "nbconvert_exporter": "python",
   "pygments_lexer": "ipython3",
   "version": "3.10.2"
  },
  "orig_nbformat": 4
 },
 "nbformat": 4,
 "nbformat_minor": 2
}
